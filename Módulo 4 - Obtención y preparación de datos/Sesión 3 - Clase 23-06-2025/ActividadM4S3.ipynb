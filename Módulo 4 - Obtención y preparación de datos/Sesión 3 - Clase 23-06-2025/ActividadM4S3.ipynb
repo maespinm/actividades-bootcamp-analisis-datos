{
 "cells": [
  {
   "cell_type": "markdown",
   "id": "cf927413-ee12-4a2b-9358-fa883c9de0ae",
   "metadata": {},
   "source": [
    "# EJERCICIO M4 - S3"
   ]
  },
  {
   "cell_type": "code",
   "execution_count": 58,
   "id": "89aa48bd-38f1-4d3b-ad21-f38444b9b1ca",
   "metadata": {},
   "outputs": [
    {
     "name": "stdout",
     "output_type": "stream",
     "text": [
      "     Categoría  Total Venta\n",
      "0     Deportes     56910989\n",
      "1  Electrónica     47621041\n",
      "2        Hogar     49961243\n",
      "3     Juguetes     64399747\n",
      "4         Ropa     46272203\n"
     ]
    }
   ],
   "source": [
    "import pandas as pd\n",
    "\n",
    "# 1. Cargar los datos desde el archivo CSV y analizar el total de ventas por categoría de producto\n",
    "df_ventas = pd.read_csv(\"ventas_detalladas.csv\")  \n",
    "#print(df_ventas)\n",
    "# Agregamos la columna Total Venta = cantidad_vendida*precioU\n",
    "df_ventas['Total Venta'] = df_ventas['Cantidad Vendida'] * df_ventas['Precio Unitario']\n",
    "#print(df_ventas)\n",
    "\n",
    "# Agrupar por categoría para calcular el total vendido por cada una\n",
    "ventas_por_categoria = df_ventas.groupby('Categoría')['Total Venta'].sum().reset_index()\n",
    "\n",
    "print(ventas_por_categoria)\n",
    "\n"
   ]
  },
  {
   "cell_type": "code",
   "execution_count": 54,
   "id": "80201e31-581e-4ebc-8754-256ae2559545",
   "metadata": {},
   "outputs": [
    {
     "name": "stdout",
     "output_type": "stream",
     "text": [
      "     Categoría  Margen de Ganancia\n",
      "0     Deportes                0.24\n",
      "1  Electrónica                0.19\n",
      "2        Hogar                0.13\n",
      "3     Juguetes                0.28\n",
      "4         Ropa                0.38\n"
     ]
    }
   ],
   "source": [
    "# 2. Leer el archivo Excel y calcular el margen de ganancia promedio de cada categoría.\n",
    "\n",
    "df_finanzas = pd.read_excel(\"reporte_financiero.xlsx\")\n",
    "#print(df_finanzas)\n",
    "\n",
    "margen_promedio = df_finanzas.groupby('Categoría')['Margen de Ganancia'].mean().reset_index() #se puede realizar sin el .reset_index()\n",
    "print(margen_promedio)"
   ]
  },
  {
   "cell_type": "code",
   "execution_count": 44,
   "id": "961996dd-0753-44a2-a249-e1125476d167",
   "metadata": {},
   "outputs": [
    {
     "name": "stdout",
     "output_type": "stream",
     "text": [
      "      Categoría        Producto  Precio Competencia\n",
      "0   Electrónica        Notebook              133775\n",
      "1   Electrónica      Smartphone              260563\n",
      "2   Electrónica          Tablet              234069\n",
      "3          Ropa          Polera              213987\n",
      "4          Ropa        Pantalón               70043\n",
      "5          Ropa        Chaqueta              102667\n",
      "6         Hogar         Lámpara              277009\n",
      "7         Hogar            Mesa               16591\n",
      "8         Hogar           Silla               66190\n",
      "9      Juguetes          Muñeca              198479\n",
      "10     Juguetes  Auto a control              120844\n",
      "11     Juguetes          Puzzle              198004\n",
      "12     Deportes           Balón              292180\n",
      "13     Deportes           Pesas              167536\n",
      "14     Deportes       Bicicleta              287664\n"
     ]
    }
   ],
   "source": [
    "# 3. Cargar los precios de la competencia\n",
    "df_competencia = pd.read_csv(\"precios_competencia.csv\")\n",
    "print(df_competencia)"
   ]
  },
  {
   "cell_type": "code",
   "execution_count": 78,
   "id": "82e4b639-0145-48dc-9fa8-98a04e712b37",
   "metadata": {},
   "outputs": [
    {
     "name": "stdout",
     "output_type": "stream",
     "text": [
      "      Categoría        Producto  Precio Unitario  Precio Competencia  \\\n",
      "0      Deportes           Balón    142434.521739              292180   \n",
      "1      Deportes       Bicicleta    180105.142857              287664   \n",
      "2      Deportes           Pesas    144732.583333              167536   \n",
      "3   Electrónica        Notebook    175992.750000              133775   \n",
      "4   Electrónica      Smartphone    157802.809524              260563   \n",
      "5   Electrónica          Tablet    158327.466667              234069   \n",
      "6         Hogar         Lámpara    191934.041667              277009   \n",
      "7         Hogar            Mesa    148756.842105               16591   \n",
      "8         Hogar           Silla    137279.736842               66190   \n",
      "9      Juguetes  Auto a control    161587.142857              120844   \n",
      "10     Juguetes          Muñeca    181592.428571              198479   \n",
      "11     Juguetes          Puzzle    204257.562500              198004   \n",
      "12         Ropa        Chaqueta    133422.666667              102667   \n",
      "13         Ropa        Pantalón    164769.200000               70043   \n",
      "14         Ropa          Polera    138257.437500              213987   \n",
      "\n",
      "    Diferencia de Precio Recomendacion  Margen de Ganancia  \n",
      "0         -149745.478261  Subir precio                0.24  \n",
      "1         -107558.857143  Subir precio                0.24  \n",
      "2          -22803.416667  Subir precio                0.24  \n",
      "3           42217.750000  Bajar precio                0.19  \n",
      "4         -102760.190476  Subir precio                0.19  \n",
      "5          -75741.533333  Subir precio                0.19  \n",
      "6          -85074.958333  Subir precio                0.13  \n",
      "7          132165.842105  Bajar precio                0.13  \n",
      "8           71089.736842  Bajar precio                0.13  \n",
      "9           40743.142857  Bajar precio                0.28  \n",
      "10         -16886.571429  Subir precio                0.28  \n",
      "11           6253.562500  Bajar precio                0.28  \n",
      "12          30755.666667  Bajar precio                0.38  \n",
      "13          94726.200000  Bajar precio                0.38  \n",
      "14         -75729.562500  Subir precio                0.38  \n"
     ]
    }
   ],
   "source": [
    "# 4. Comparar los precios de la competencia con los datos de ventas y margen de ganancia para determinar si es necesario ajustar los precios de la empresa\n",
    "# Calculamos el precio promedio por producto en nuestra empresa\n",
    "df_precio_promedio_empresa = df_ventas.groupby(['Categoría', 'Producto'])['Precio Unitario'].mean().reset_index()\n",
    "#print(precio_promedio_empresa)\n",
    "\n",
    "# Unimos los precios internos con los de la competencia\n",
    "comparacion_precios = pd.merge(df_precio_promedio_empresa, df_competencia, on=['Categoría', 'Producto'], how='inner')\n",
    "#print(comparacion_precios)\n",
    "\n",
    "# Calculamos la diferencia de precios y sugerimos ajustes\n",
    "comparacion_precios['Diferencia de Precio'] = comparacion_precios['Precio Unitario'] - comparacion_precios['Precio Competencia']\n",
    "#print(comparacion_precios)\n",
    "\n",
    "comparacion_precios['Recomendacion'] = comparacion_precios['Diferencia de Precio'].apply(\n",
    "    lambda x: 'Bajar precio' if x > 0 else 'Subir precio'\n",
    ")\n",
    "#print(comparacion_precios.head(10))\n",
    "\n",
    "# Agregamos el margen de ganancia por categoría a la tabla de comparación\n",
    "df_comparacion_final = pd.merge(comparacion_precios, margen_promedio, on='Categoría', how='left')\n",
    "print(df_comparacion_final)"
   ]
  },
  {
   "cell_type": "code",
   "execution_count": 80,
   "id": "6cc0923e-0873-4e94-b13f-91493ab1bd20",
   "metadata": {},
   "outputs": [],
   "source": [
    "# 5 exportar a excel\n",
    "# opción 1\n",
    "\n",
    "# Guardar cada DataFrame como un archivo Excel independiente\n",
    "\n",
    "ventas_por_categoria.to_excel(\"ventas_por_categoria.xlsx\", index=False)\n",
    "margen_promedio.to_excel(\"margen_promedio.xlsx\", index=False)\n",
    "comparacion_final.to_excel(\"comparacion_precios.xlsx\", index=False)"
   ]
  },
  {
   "cell_type": "code",
   "execution_count": 82,
   "id": "2953adb3-51b4-404e-bcf6-024e2f02308b",
   "metadata": {},
   "outputs": [],
   "source": [
    "# 5 exportar a excel\n",
    "# opción 2\n",
    "\n",
    "with pd.ExcelWriter(\"informe_resultados_marketing.xlsx\") as writer:\n",
    "    ventas_por_categoria.to_excel(writer, sheet_name='Ventas por Categoría', index=False)\n",
    "    margen_promedio.to_excel(writer, sheet_name='Margen Promedio', index=False)\n",
    "    comparacion_final.to_excel(writer, sheet_name='Comparación Precios', index=False)\n",
    "\n"
   ]
  },
  {
   "cell_type": "code",
   "execution_count": 84,
   "id": "51d7c66e-3638-46d8-a58f-92a8453f82a7",
   "metadata": {},
   "outputs": [],
   "source": [
    "# 5 exportar a excel\n",
    "# opción 3\n",
    "\n",
    "def formatear_pesos(col):\n",
    "    return col.apply(lambda x: f\"$ {x:,.0f}\".replace(\",\", \".\") if pd.notnull(x) else x)\n",
    "\n",
    "ventas_por_categoria['Total Venta'] = formatear_pesos(ventas_por_categoria['Total Venta'])\n",
    "comparacion_final['Precio Unitario'] = formatear_pesos(comparacion_final['Precio Unitario'])\n",
    "comparacion_final['Precio Competencia'] = formatear_pesos(comparacion_final['Precio Competencia'])\n",
    "comparacion_final['Diferencia de Precio'] = formatear_pesos(comparacion_final['Diferencia de Precio'])\n",
    "\n",
    "# ------------------------------\n",
    "# 6. Exportar a archivo Excel\n",
    "# ------------------------------\n",
    "with pd.ExcelWriter(\"informe_resultados_marketing_formateado.xlsx\") as writer:\n",
    "    ventas_por_categoria.to_excel(writer, sheet_name='Ventas por Categoría', index=False)\n",
    "    margen_promedio.to_excel(writer, sheet_name='Margen Promedio', index=False)\n",
    "    comparacion_final.to_excel(writer, sheet_name='Comparación Precios', index=False)"
   ]
  }
 ],
 "metadata": {
  "kernelspec": {
   "display_name": "Python 3 (ipykernel)",
   "language": "python",
   "name": "python3"
  },
  "language_info": {
   "codemirror_mode": {
    "name": "ipython",
    "version": 3
   },
   "file_extension": ".py",
   "mimetype": "text/x-python",
   "name": "python",
   "nbconvert_exporter": "python",
   "pygments_lexer": "ipython3",
   "version": "3.12.4"
  }
 },
 "nbformat": 4,
 "nbformat_minor": 5
}
