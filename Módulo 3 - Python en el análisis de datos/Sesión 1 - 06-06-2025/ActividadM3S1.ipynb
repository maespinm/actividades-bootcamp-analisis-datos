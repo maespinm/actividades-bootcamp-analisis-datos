{
 "cells": [
  {
   "cell_type": "markdown",
   "id": "682095b8-5485-42d2-a7b6-7de7a56d891e",
   "metadata": {},
   "source": [
    "# Estudio de Caso: \n",
    "##### Mariana trabaja en el departamento de ventas de una empresa de tecnología y recibe diariamente reportes de ventas en formato de texto con datos de diferentes clientes, montos de compra y fechas de transacción. Sin conocimientos avanzados en programación, ha decidido aprender Python para automatizar algunas tareas repetitivas, como calcular el total de ventas del día, identificar los clientes con compras mayores a cierto umbral y convertir los datos a un formato más estructurado. Escenario: Mariana recibe un archivo con la siguiente información:<br><br> ```clientes = [\"Juan\", \"Ana\", \"Luis\", \"Carlos\"]```<br>```ventas = [1500.50, 2300.75, 1850.00, 920.30]```<br><br>Ella necesita escribir un script en Python que le permita:  \n",
    "1. Calcular el total de ventas del día.\n",
    "2. Determinar cuántos clientes realizaron compras mayores a $2,000.\n",
    "3. Convertir los valores numéricos a texto para generar un informe.\n",
    "4. Imprimir los resultados en consola.\n"
   ]
  },
  {
   "cell_type": "code",
   "execution_count": 40,
   "id": "48676513-7e10-4725-ba09-3cdf448c1436",
   "metadata": {},
   "outputs": [
    {
     "name": "stdout",
     "output_type": "stream",
     "text": [
      "El total de ventas del dia es: 6571.55\n",
      "La cantidad de clientes que realizaron compras mayores a $2.000 es: 1\n"
     ]
    }
   ],
   "source": [
    "#codigo\n",
    "clientes = [\"Juan\", \"Ana\", \"Luis\", \"Carlos\"]\n",
    "ventas = [1500.50, 2300.75, 1850.00, 920.30]\n",
    "#print(\"El tipo de clientes es:\",type(clientes[0]))\n",
    "#print(\"El tipo de ventas es:\",type(ventas[0]))\n",
    "\n",
    "#usamos la funcion sum que suma los valores de una lista\n",
    "total_venta = sum(ventas)\n",
    "\n",
    "#usaremos un bucle(for) para consultar por cada precio en venta y lo iremos sumando a un contador\n",
    "count = 0\n",
    "for venta in ventas:\n",
    "    if venta > 2000 :\n",
    "        count = count + 1\n",
    "\n",
    "#transformaremos los valores a texto\n",
    "total_venta = str(total_venta)\n",
    "count = str(count)\n",
    "#print(\"El tipo de total_venta es:\",type(total_venta))\n",
    "#print(\"El tipo de count es:\",type(count))\n",
    "\n",
    "#Imprimimos todo en consola\n",
    "print(\"El total de ventas del dia es:\",total_venta)\n",
    "print(\"La cantidad de clientes que realizaron compras mayores a $2.000 es:\",count)"
   ]
  },
  {
   "cell_type": "markdown",
   "id": "040003ef-53c6-43e2-a053-05f9517ca6ac",
   "metadata": {},
   "source": [
    "#Preguntas\n",
    "1. ¿Qué tipo de datos se están utilizando en la lista de clientes y en la lista de ventas?\n",
    "   ```En la lista de datos tenemos tipo de dato string (clientes) y float(ventas)```\n",
    "2. ¿Cómo podría calcular el total de ventas usando una función de Python?\n",
    "   ```Se puede calcular como total_venta = sum(ventas)```\n",
    "3. ¿Qué estructura de control puede utilizar para identificar a los clientes con compras \n",
    "mayores a $2,000? ```Con la estructura de control if```\n",
    "4. ¿Cómo puede convertir los datos numéricos en texto antes de imprimirlos en el \n",
    "informe?\n",
    "    ```Con la funcion str()```\n",
    "5. ¿Cuáles son los entornos de desarrollo más adecuados para ejecutar este tipo de script y por qué?\n",
    "   ```Cualquier entorno de desarrollo que tenga soporte a python sera estupendo para ayudarte a programar, algunos por ejemplo son: Jupyterlab, visual studio code, google colab, etc.```"
   ]
  }
 ],
 "metadata": {
  "kernelspec": {
   "display_name": "Python [conda env:base] *",
   "language": "python",
   "name": "conda-base-py"
  },
  "language_info": {
   "codemirror_mode": {
    "name": "ipython",
    "version": 3
   },
   "file_extension": ".py",
   "mimetype": "text/x-python",
   "name": "python",
   "nbconvert_exporter": "python",
   "pygments_lexer": "ipython3",
   "version": "3.12.7"
  }
 },
 "nbformat": 4,
 "nbformat_minor": 5
}
