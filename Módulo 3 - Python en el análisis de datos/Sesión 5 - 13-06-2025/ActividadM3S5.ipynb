{
 "cells": [
  {
   "cell_type": "markdown",
   "metadata": {
    "id": "4FLV1yxDh9Rh"
   },
   "source": [
    "---\n",
    "# Guía Ciclos Iterativos\n",
    "\n",
    "En esta guía cubriremos:\n",
    "- Sentencia While\n",
    "- Sentencia For\n",
    "- Sentencias Break y Continue\n",
    "\n",
    "\n",
    "\n",
    "---\n"
   ]
  },
  {
   "cell_type": "markdown",
   "metadata": {
    "id": "J0shbiwuHYah"
   },
   "source": [
    "##  1. Sentencia WHILE\n",
    "\n"
   ]
  },
  {
   "cell_type": "markdown",
   "metadata": {
    "id": "40pPFBX6CXKJ"
   },
   "source": [
    "Permite ejecutar operaciones mientras se cumpla una condición.\n",
    "\n",
    "**while** (Condicion):\n",
    "\n",
    "    ... lo que se hace mientras se cumpla la condicion\n",
    "\n",
    "**else** :\n",
    "\n",
    "    ... Se ejecuta cuando la condicion no se cumple más\n",
    "    \n",
    "Esto introduce otra estructura basica de un programa que son los ciclos (loops o bucles). En código se ve de la siguiente manera:\n",
    "\n"
   ]
  },
  {
   "cell_type": "code",
   "execution_count": null,
   "metadata": {
    "id": "LLcZ4LH3CMUt",
    "outputId": "a2c51e57-8ddb-4ff9-eca8-ed1fd94e43de"
   },
   "outputs": [],
   "source": [
    "x = 1\n",
    "while x < 10:\n",
    "    print(x)\n",
    "    x += 1\n",
    "else:\n",
    "    print('Termina el while')\n",
    "\n",
    "print(\"Continuo con el resto del programa\")"
   ]
  },
  {
   "cell_type": "markdown",
   "metadata": {
    "id": "tzu1YFDNQTQu"
   },
   "source": [
    "Es importante tener en cuenta que la condición se evalúa sólo al principio del loop.\n",
    "\n",
    "Al usar una variable auxiliar para contar la cantidad de repeticiones del while, es recomendable no modificar su valor dentro del bloque excepto para incrementar/decrementar su valor acordemente. Esto es porque se corre el riesgo de que la condición siempre sea True y el while se ejecute infinitamente, además es dificil darse cuenta de que la cantidad de ciclos será de hecho la que queremos.\n",
    "\n",
    "¿Qué realiza este programa?"
   ]
  },
  {
   "cell_type": "code",
   "execution_count": null,
   "metadata": {
    "id": "8ZnPPjB4h3Nz",
    "outputId": "8af52baa-4a9d-495c-efa6-70a63e1165f6"
   },
   "outputs": [],
   "source": [
    "nota = int( input('Ingrese un número del 1 al 10: ') )\n",
    "\n",
    "while nota < 1 or nota > 10:\n",
    "    print('Fuera de rango!')\n",
    "    nota = int( input('Ingrese un número del 1 al 10: ') )\n",
    "\n",
    "print( nota >= 4 )\n",
    "print(nota)"
   ]
  },
  {
   "cell_type": "markdown",
   "metadata": {
    "id": "KHHwPfH3QZQO"
   },
   "source": [
    "---\n",
    "#### Mini-desafío If y While\n",
    "Implementar un programa que muestre la siguiente secuencia:\n",
    "\n",
    "1, 2, 3, 4, 5, 4, 3, 2, 1, 0\n",
    "\n",
    "**Para un desafío mayor:** Utilizar un solo *while*, un solo *if* y un solo *else*\n",
    "\n",
    "\n"
   ]
  },
  {
   "cell_type": "code",
   "execution_count": 93,
   "metadata": {
    "id": "-_Y-xlgdfLxT"
   },
   "outputs": [
    {
     "name": "stdout",
     "output_type": "stream",
     "text": [
      "1\n",
      "2\n",
      "3\n",
      "4\n",
      "5\n",
      "4\n",
      "3\n",
      "2\n",
      "1\n",
      "0\n",
      "1, 2, 3, 4, 5, 4, 3, 2, 1, 0\n"
     ]
    }
   ],
   "source": [
    "indice=1\n",
    "numero=1\n",
    "while indice <= 10:\n",
    "    print (numero)\n",
    "    if indice < 5:\n",
    "        numero+=1\n",
    "    else:\n",
    "        numero-=1\n",
    "    indice+=1\n",
    "\n",
    "num = 1\n",
    "step = 1\n",
    "count = 0\n",
    "output = [] # Usamos una lista para almacenar los números y luego unirlos\n",
    "\n",
    "while count < 10: # La secuencia tiene 10 números\n",
    "    output.append(str(num)) # Convertimos a string para luego unirlos\n",
    "\n",
    "    if num == 5:\n",
    "        step = -1 # Cambiamos la dirección cuando llegamos a 5\n",
    "    else:\n",
    "        pass # No hacemos nada si no es 5 (mantiene el step actual)\n",
    "\n",
    "    num += step\n",
    "    count += 1\n",
    "\n",
    "print(\", \".join(output))"
   ]
  },
  {
   "cell_type": "markdown",
   "metadata": {
    "id": "T-KOiUHbLcde"
   },
   "source": [
    "---\n",
    "## 2. Sentencia FOR\n",
    "\n"
   ]
  },
  {
   "cell_type": "markdown",
   "metadata": {
    "id": "PhYkTwLbCbsO"
   },
   "source": [
    "La estructura del **for** permite realizar una serie de acciones con una variable, que cambia su valor en cada repetición (iteración).\n",
    "\n",
    "**for** (variable) **in** (conjunto de valores):\n",
    "\n",
    "    ... Lo que quieras hacer con tu variable\n",
    "\n",
    "Veámoslo en un ejemplo de codigo:\n"
   ]
  },
  {
   "cell_type": "code",
   "execution_count": null,
   "metadata": {
    "id": "Cwo3zZy5I3x_"
   },
   "outputs": [],
   "source": [
    "for x in range(1,16,2):\n",
    "    print(x)"
   ]
  },
  {
   "cell_type": "markdown",
   "metadata": {
    "id": "VujdlKBZMfE3"
   },
   "source": [
    "**range**(a,b,d)  nos genera los valores desde a hasta b con incrementos de d, por ejemplo el siguiente codigo generara los numeros pares entre 0 y 10:\n",
    "\n"
   ]
  },
  {
   "cell_type": "code",
   "execution_count": null,
   "metadata": {
    "id": "XCHNbgvEMdIb",
    "outputId": "6adc11b1-1dd8-4ec4-e101-909f61421389"
   },
   "outputs": [],
   "source": [
    "for x in range(3,11):\n",
    "    print(x)"
   ]
  },
  {
   "cell_type": "markdown",
   "metadata": {
    "id": "7gts4JhvGzdz"
   },
   "source": [
    "Noten que el límite superior del rango nunca es incluído.\n",
    "\n",
    "Al utilizar la instrucción **range( )** no es necesario proporcionar siempre los 3 parametros. Observen que sucede cuando se proporcionan 1 o 2 parámetros:"
   ]
  },
  {
   "cell_type": "code",
   "execution_count": null,
   "metadata": {
    "id": "ofmsq6j6HB4E"
   },
   "outputs": [],
   "source": [
    "print(\"range(5):\")\n",
    "for x in range(5):\n",
    "    print(x)\n",
    "\n",
    "print(\"range(10, 15):\")\n",
    "for x in range(10, 15):\n",
    "    print(x)"
   ]
  },
  {
   "cell_type": "markdown",
   "metadata": {
    "id": "UoNf8Ce-NAi5"
   },
   "source": [
    "### Mini-desafío for\n",
    "Mostrar la siguiente secuencia de datos utilizando la instrucción for y la instrucción if:\n",
    "\n",
    "0, 1, 4, 9, 16, 25, 6, 7, 8, 9"
   ]
  },
  {
   "cell_type": "code",
   "execution_count": 92,
   "metadata": {
    "id": "E3NctxBaM3kG"
   },
   "outputs": [
    {
     "name": "stdout",
     "output_type": "stream",
     "text": [
      "0, 1, 4, 9, 16, 25, 6, 7, 8, 9\n"
     ]
    }
   ],
   "source": [
    "for i in range (0,10):\n",
    "    if i<=5:\n",
    "        print(i**2, end=', ')\n",
    "    else:\n",
    "        if i < 9:\n",
    "            print(i, end=', ')\n",
    "        else:\n",
    "            print(i)"
   ]
  },
  {
   "cell_type": "markdown",
   "metadata": {
    "id": "dwS9n-3UfLxU"
   },
   "source": [
    "### for sobre un string\n",
    "La estructura *for* que veremos a continuación tiene una gran versatilidad ya que como veremos, no está limitada a recorrer los valores generados por *range*. También es posible recorrer los caracteres de un string usando *for* como se muestra a continuación:"
   ]
  },
  {
   "cell_type": "code",
   "execution_count": null,
   "metadata": {
    "id": "7n5ZdPRAfLxU",
    "outputId": "a5753ea0-8fe1-4fe6-b280-0ce1154b6f47"
   },
   "outputs": [],
   "source": [
    "texto = \"Curso de Python\"\n",
    "vocales = 0\n",
    "for c in texto:\n",
    "    if c == 'a' or c == 'e' or c == 'i' or c == 'o' or c == 'u':\n",
    "        vocales += 1\n",
    "\n",
    "print(\"Vocales: \", vocales)"
   ]
  },
  {
   "cell_type": "markdown",
   "metadata": {
    "id": "XDGgUB3opnot"
   },
   "source": [
    "### for sobre una lista\n",
    "Al igual que con strings, la instrucción *for* puede ir avanzando sobre todos los elementos de una lista:"
   ]
  },
  {
   "cell_type": "code",
   "execution_count": null,
   "metadata": {
    "id": "UNFJKu_YpwmU",
    "outputId": "7a499724-af30-4c8f-9cce-f2651f4391f6"
   },
   "outputs": [],
   "source": [
    "lista = [1, 10, 100, 1000, [5,6,7], 5, \"hola\"]\n",
    "\n",
    "for elemento in lista:\n",
    "    print(elemento)"
   ]
  },
  {
   "cell_type": "markdown",
   "metadata": {
    "id": "UlcBp_8UvehI"
   },
   "source": [
    "Tambien podemos crear una lista del tamaño que queramos de la siguiente manera:\n",
    "\n",
    "> a = **[** x **for** x **in** **range**(N) **]**"
   ]
  },
  {
   "cell_type": "code",
   "execution_count": null,
   "metadata": {
    "id": "2tg0JHq_KwOM",
    "outputId": "47e09a21-f46a-4af6-b9d6-aadf67150826"
   },
   "outputs": [],
   "source": [
    "b = [x for x in range(10)]\n",
    "print(b)"
   ]
  },
  {
   "cell_type": "code",
   "execution_count": null,
   "metadata": {
    "id": "bH3cqGa-fLxV",
    "outputId": "31109533-dcc9-4b2f-856b-b526f48e5f85"
   },
   "outputs": [],
   "source": [
    "a=[]\n",
    "for x in range(10):\n",
    "    a.append(x*2)\n",
    "print(a)"
   ]
  },
  {
   "cell_type": "markdown",
   "metadata": {
    "id": "3NnBGiXYKoFd"
   },
   "source": [
    "\n",
    "Podemos tambien aplicarle una operación a la variable x\n",
    "> a = **[** (operacion con x) **for** x **in** **range**(N) **]**"
   ]
  },
  {
   "cell_type": "code",
   "execution_count": null,
   "metadata": {
    "id": "hiu1MacNvyQd",
    "outputId": "1ebef18d-b91f-491a-ea6b-f207b2864dab"
   },
   "outputs": [],
   "source": [
    "a = [ x for x in range(0, 10)]\n",
    "print(a)\n",
    "b = [x*2 for x in range(15)]\n",
    "print(b)\n",
    "c = [3 * letra for letra in \"hola\"]\n",
    "print(c)\n",
    "d = []\n",
    "print(d)"
   ]
  },
  {
   "cell_type": "code",
   "execution_count": null,
   "metadata": {
    "id": "ToPtc7DafLxV"
   },
   "outputs": [],
   "source": [
    "b = [x*2 for x in range(15)]\n",
    "print(b)"
   ]
  },
  {
   "cell_type": "code",
   "execution_count": null,
   "metadata": {
    "id": "M6iSX2ZOfLxV",
    "outputId": "059b5086-c088-4772-de39-1f9931dfdc98"
   },
   "outputs": [],
   "source": [
    "c = [3 * letra for letra in \"hola\"]\n",
    "print(c)\n"
   ]
  },
  {
   "cell_type": "code",
   "execution_count": null,
   "metadata": {
    "id": "mYzxRiQZfLxV"
   },
   "outputs": [],
   "source": [
    "elemento_c=c[1]\n",
    "print(c[2])\n",
    "print(elemento_c)\n",
    "print(c[1:4]) \n"
   ]
  },
  {
   "cell_type": "code",
   "execution_count": null,
   "metadata": {
    "id": "Mt4aYDQPfLxV"
   },
   "outputs": [],
   "source": [
    "c[0], c[1] = c[1], c[0]\n",
    "print(c)"
   ]
  },
  {
   "cell_type": "code",
   "execution_count": null,
   "metadata": {
    "id": "V52amX2dfLxW"
   },
   "outputs": [],
   "source": [
    "a = [x+2 for x in [2,3,4,5]]\n",
    "print(a)\n",
    "print(a[0]) \n",
    "print(a[2])"
   ]
  },
  {
   "cell_type": "markdown",
   "metadata": {
    "id": "3plZLq9dT-1t"
   },
   "source": [
    "---\n",
    "### Mini-desafío 1: listas\n",
    "1. Crear una lista con los números pares menores a 50.\n",
    "2. Crear una lista con el nombre de los días de la semana. Realizar un programa al cual se ingresa el día del año mediante un número de 0 a 364, que determine a qué día de la semana corresponde mediante un número de 0 (Lunes) a 6 (Domingo) y luego muestre en pantalla el elemento correspondiente de la lista, o sea, el día de la semana en forma de texto (suponemos que el día 0 del año es Lunes).\n",
    "\n",
    "  **Ejemplos:**\n",
    "  \n",
    "  `calcularDia(1) => 'Martes'` (Ya que el día 1 cae Martes)\n",
    "\n",
    "  `calcularDia(10) => 'Jueves'` (Ya que el día 10 cae Jueves)\n",
    "\n",
    "  `calcularDia(25) => 'Viernes'` (Ya que el día 25 cae Viernes)\n",
    "<img height=\"300\" src=\"https://raw.githubusercontent.com/IEEESBITBA/Curso-Python/master/_assets/calendario.png\">\n",
    "\n",
    "3. Realizar un programa que ordena nombres alfabeticamente. Primero debe pedir al usuario que ingrese el número de nombres que serán ingresados, luego debe pedir al usuario que ingrese un nombre y repetir ese pedido la cantidad de veces indicada. Los nombres se deben ir agregando a una lista. Por último, ordenar la lista alfabéticamente y mostrar en pantalla de a uno por vez los nombres ordenados (usando un for)."
   ]
  },
  {
   "cell_type": "code",
   "execution_count": 35,
   "metadata": {},
   "outputs": [
    {
     "name": "stdout",
     "output_type": "stream",
     "text": [
      "[2, 4, 6, 8, 10, 12, 14, 16, 18, 20, 22, 24, 26, 28, 30, 32, 34, 36, 38, 40, 42, 44, 46, 48]\n"
     ]
    }
   ],
   "source": [
    "#1) Crear una lista con los números pares menores a 50.\n",
    "lista=[]\n",
    "for i in range(2,50,2):\n",
    "    lista.append(i)\n",
    "print(lista)"
   ]
  },
  {
   "cell_type": "code",
   "execution_count": 61,
   "metadata": {},
   "outputs": [
    {
     "name": "stdin",
     "output_type": "stream",
     "text": [
      "Ingrese un dia del año (0 - 364) para saber que dia cae 1\n"
     ]
    },
    {
     "name": "stdout",
     "output_type": "stream",
     "text": [
      "El día 1 cae Martes\n"
     ]
    }
   ],
   "source": [
    "#2) Crear programa que dice dia con un numero\n",
    "dias=['Lunes','Martes','Miercoles','Jueves','Viernes','Sabado','Domingo']\n",
    "def calcularDia(numero_dia):\n",
    "    print(f\"El día {numero_dia} cae {dias[numero_dia%7]}\")\n",
    "\n",
    "while True:\n",
    "    try:\n",
    "        numero_dia=int(input(\"Ingrese un dia del año (0 - 364) para saber que dia cae\"))\n",
    "        if (0<=numero_dia<=364):\n",
    "            calcularDia(numero_dia)\n",
    "            break\n",
    "        else:\n",
    "            print(\"ERROR: Ingrese una fecha valida del año (0 - 364)\")\n",
    "    except ValueError:\n",
    "        print(\"ERROR: Ingrese un número entero\")"
   ]
  },
  {
   "cell_type": "code",
   "execution_count": 88,
   "metadata": {},
   "outputs": [
    {
     "name": "stdin",
     "output_type": "stream",
     "text": [
      "Ingrese la cantidad de nombres a ingresar:  6\n",
      "Ingrese el nombre 1 de 6:  Mark\n",
      "Ingrese el nombre 2 de 6:  Judio\n",
      "Ingrese el nombre 3 de 6:  Gusano\n",
      "Ingrese el nombre 4 de 6:  Lala\n",
      "Ingrese el nombre 5 de 6:  Fuaaa\n",
      "Ingrese el nombre 6 de 6:  Corre\n"
     ]
    },
    {
     "name": "stdout",
     "output_type": "stream",
     "text": [
      "Lista de nombres ordenada:  ['Corre', 'Fuaaa', 'Gusano', 'Judio', 'Lala', 'Mark']\n"
     ]
    }
   ],
   "source": [
    "#3) Realizar un programa que ordena nombres alfabeticamente.\n",
    "lista_nombres=[]\n",
    "while True:\n",
    "    try:\n",
    "        numero_nombres=int(input(\"Ingrese la cantidad de nombres a ingresar: \"))\n",
    "        if (numero_nombres>0):\n",
    "            break\n",
    "        else:\n",
    "            print(\"ERROR: Ingrese una cantidad mayor a 0\")\n",
    "    except ValueError:\n",
    "        print(\"ERROR: Ingrese un número entero\")\n",
    "for i in range(numero_nombres):\n",
    "    nombre=input(f\"Ingrese el nombre {i+1} de {numero_nombres}: \")\n",
    "    lista_nombres.append(nombre)\n",
    "print(\"Lista de nombres ordenada: \", sorted(lista_nombres, key=str.lower))"
   ]
  },
  {
   "cell_type": "markdown",
   "metadata": {
    "id": "rNXYzvGZfLxW"
   },
   "source": [
    "---\n",
    "## 3. Sentencias Break y Continue\n",
    "Romper el bucle, cuando se encuentra el elemento deseado, con la declaración `break`:"
   ]
  },
  {
   "cell_type": "code",
   "execution_count": null,
   "metadata": {
    "id": "-8u2KKWAfLxW",
    "outputId": "824a63e8-9e5a-41c2-cb7e-2791bf310090"
   },
   "outputs": [],
   "source": [
    "l=[1,3,65,3,-1,56,-10]\n",
    "for x in l:\n",
    "    if x < 0:\n",
    "        break\n",
    "print(\"El primer elemento negativo de la lista fue\", x)"
   ]
  },
  {
   "cell_type": "markdown",
   "metadata": {
    "id": "exqnwOrjfLxW"
   },
   "source": [
    "Detener la iteración actual y continuar con la siguiente con la instrucción `continue`:"
   ]
  },
  {
   "cell_type": "code",
   "execution_count": null,
   "metadata": {
    "ExecuteTime": {
     "end_time": "2019-06-17T13:56:49.327404Z",
     "start_time": "2019-06-17T13:56:49.318054Z"
    },
    "id": "1qjhraRHfLxW",
    "outputId": "d16a0779-20b8-418b-cd1f-d5d33a6e4631"
   },
   "outputs": [],
   "source": [
    "from math import sqrt, log\n",
    "l=[1,3,65,3,-1,56,-10]\n",
    "for x in l:\n",
    "    if x < 0:\n",
    "        continue\n",
    "    print(f\"La Raiz cuadrada de {x} es {sqrt(x):.3f}\")\n",
    "    print(f\"El logaritmo natural de {x} es {log(x):.4f}\")"
   ]
  },
  {
   "cell_type": "markdown",
   "metadata": {
    "id": "47aNdtHOfLxW"
   },
   "source": [
    "---\n",
    "### Mini-desafío 2: \n",
    "\n",
    "Consideremos lanzar dos dados. (Un dado puede dar un valor entre 1 y 6.) Utilice dos \"for\" anidados\n",
    "bucles en la función `main` para iterar a través de todas las combinaciones posibles que el par de dados puede dar.\n",
    "Hay 36 combinaciones posibles. Imprima todas esas combinaciones como pares (ordenados) que sumen 5.\n",
    "Por ejemplo, su impresión debe incluir el par `(2,3)`. Imprime un par por línea.\n"
   ]
  },
  {
   "cell_type": "code",
   "execution_count": 72,
   "metadata": {
    "id": "cSutu-CJfLxW"
   },
   "outputs": [
    {
     "name": "stdout",
     "output_type": "stream",
     "text": [
      "01:\tLa combinación de 1 y 1 es 2\n",
      "02:\tLa combinación de 1 y 2 es 3\n",
      "03:\tLa combinación de 1 y 3 es 4\n",
      "04:\tLa combinación de 1 y 4 es 5\n",
      "05:\tLa combinación de 1 y 5 es 6\n",
      "06:\tLa combinación de 1 y 6 es 7\n",
      "07:\tLa combinación de 2 y 1 es 3\n",
      "08:\tLa combinación de 2 y 2 es 4\n",
      "09:\tLa combinación de 2 y 3 es 5\n",
      "10:\tLa combinación de 2 y 4 es 6\n",
      "11:\tLa combinación de 2 y 5 es 7\n",
      "12:\tLa combinación de 2 y 6 es 8\n",
      "13:\tLa combinación de 3 y 1 es 4\n",
      "14:\tLa combinación de 3 y 2 es 5\n",
      "15:\tLa combinación de 3 y 3 es 6\n",
      "16:\tLa combinación de 3 y 4 es 7\n",
      "17:\tLa combinación de 3 y 5 es 8\n",
      "18:\tLa combinación de 3 y 6 es 9\n",
      "19:\tLa combinación de 4 y 1 es 5\n",
      "20:\tLa combinación de 4 y 2 es 6\n",
      "21:\tLa combinación de 4 y 3 es 7\n",
      "22:\tLa combinación de 4 y 4 es 8\n",
      "23:\tLa combinación de 4 y 5 es 9\n",
      "24:\tLa combinación de 4 y 6 es 10\n",
      "25:\tLa combinación de 5 y 1 es 6\n",
      "26:\tLa combinación de 5 y 2 es 7\n",
      "27:\tLa combinación de 5 y 3 es 8\n",
      "28:\tLa combinación de 5 y 4 es 9\n",
      "29:\tLa combinación de 5 y 5 es 10\n",
      "30:\tLa combinación de 5 y 6 es 11\n",
      "31:\tLa combinación de 6 y 1 es 7\n",
      "32:\tLa combinación de 6 y 2 es 8\n",
      "33:\tLa combinación de 6 y 3 es 9\n",
      "34:\tLa combinación de 6 y 4 es 10\n",
      "35:\tLa combinación de 6 y 5 es 11\n",
      "36:\tLa combinación de 6 y 6 es 12\n"
     ]
    }
   ],
   "source": [
    "contador=1\n",
    "for dado1 in range(1,7):\n",
    "    for dado2 in range(1,7):\n",
    "        print(f\"{contador if contador >=10 else \"0\"+str(contador)}:\\tLa combinación de {dado1} y {dado2} es {dado1+dado2}\")\n",
    "        contador+=1"
   ]
  }
 ],
 "metadata": {
  "colab": {
   "provenance": [],
   "toc_visible": true
  },
  "kernelspec": {
   "display_name": "Python [conda env:base] *",
   "language": "python",
   "name": "conda-base-py"
  },
  "language_info": {
   "codemirror_mode": {
    "name": "ipython",
    "version": 3
   },
   "file_extension": ".py",
   "mimetype": "text/x-python",
   "name": "python",
   "nbconvert_exporter": "python",
   "pygments_lexer": "ipython3",
   "version": "3.12.7"
  }
 },
 "nbformat": 4,
 "nbformat_minor": 4
}
