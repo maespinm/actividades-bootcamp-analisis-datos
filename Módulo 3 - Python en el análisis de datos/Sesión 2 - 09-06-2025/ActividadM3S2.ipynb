{
 "cells": [
  {
   "cell_type": "code",
   "execution_count": null,
   "id": "91793992-b2c0-4cb5-b88d-379ed2dff7f0",
   "metadata": {},
   "outputs": [],
   "source": [
    "def tipo_cliente(compras):\n",
    "    if compras > 50:\n",
    "        print(\"Es un cliente Premium\")\n",
    "    elif 20 <= compras <= 50:\n",
    "        print(\"Es un cliente Regular\")\n",
    "    elif 0<compras<20:\n",
    "        print(\"Es un cliente Ocasional\")\n",
    "    elif compras==0:\n",
    "        print(\"Le hemos enviado un cupon de descuento\")\n",
    "\n",
    "while True:\n",
    "    try:\n",
    "        compras = int(input(\"Ingrese la cantidad de compras del cliente\"))\n",
    "        if compras>=0:\n",
    "            tipo_cliente(compras)\n",
    "            break\n",
    "        else :\n",
    "            print(\"ERROR, ingreso un numero negativo\")\n",
    "    except ValueError:\n",
    "        print(\"ERROR, no ingreso un numero entero\")"
   ]
  },
  {
   "cell_type": "markdown",
   "id": "f421abc1-e97d-4e17-a1eb-bfa161dcbab6",
   "metadata": {},
   "source": [
    "### Preguntas Clave:\n",
    "1. ¿Qué tipo de estructura condicional es más adecuada para clasificar a los clientes?\n",
    "¿Por qué?\n",
    "```Con una estructura de if y elif comparando con las compras realizadas```\n",
    "\n",
    "2. ¿Cómo usarías operadores de comparación y booleanos para definir los rangos de\n",
    "clientes?\n",
    "```Los usaria para comparar si las compras superan o estan en cierto rango y booleanos en los and```\n",
    "\n",
    "\n",
    "3. ¿Cómo podrías mejorar la legibilidad del código al usar estructuras condicionales?\n",
    "```Con una buenda identacion y uso de comentarios```\n",
    "\n",
    "4. ¿Qué ventajas ofrece el uso de sentencias condicionales en este caso respecto a un\n",
    "enfoque manual de clasificación?\n",
    "```Las sentencias condicionales nos permiten automatizar tareas y reducir el codigo total```\n",
    "\n",
    "5. ¿Cómo podrías adaptar este código para que funcione con una base de datos en lugar\n",
    "de valores fijos?\n",
    "```Tendria que conectarse con una lista de usuarios que tengan asignado sus compras y luego usar la funcion```"
   ]
  }
 ],
 "metadata": {
  "kernelspec": {
   "display_name": "Python [conda env:base] *",
   "language": "python",
   "name": "conda-base-py"
  },
  "language_info": {
   "codemirror_mode": {
    "name": "ipython",
    "version": 3
   },
   "file_extension": ".py",
   "mimetype": "text/x-python",
   "name": "python",
   "nbconvert_exporter": "python",
   "pygments_lexer": "ipython3",
   "version": "3.12.7"
  }
 },
 "nbformat": 4,
 "nbformat_minor": 5
}
