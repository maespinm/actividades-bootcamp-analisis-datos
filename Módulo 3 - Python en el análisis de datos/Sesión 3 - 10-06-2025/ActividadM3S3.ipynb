{
 "cells": [
  {
   "cell_type": "markdown",
   "id": "a46cef07-3a6b-4ea1-9912-1a8b5211390c",
   "metadata": {},
   "source": [
    "Vamos a pasar a realizar el ejercicio: Calcular el área y el perímetro de un círculo\n",
    "1.- utilicen modulo\n",
    "2.- utilicen funciones\n",
    "3.- el usuario debe ingresar los valores\n",
    "4.- mostrar resultado"
   ]
  },
  {
   "cell_type": "code",
   "execution_count": 24,
   "id": "9bed79d3-8fb5-447e-8cc9-5e88501e0939",
   "metadata": {},
   "outputs": [
    {
     "name": "stdin",
     "output_type": "stream",
     "text": [
      "Ingrese la medida del radio del circulo en cms.: 10\n"
     ]
    },
    {
     "name": "stdout",
     "output_type": "stream",
     "text": [
      "Radio del circulo:\t 10.0 cms\n",
      "Area del circulo:\t 314.16 cm2\n",
      "Perimetro del circulo:\t 62.83 cms\n"
     ]
    }
   ],
   "source": [
    "import math\n",
    "\n",
    "def calcular_area_circulo(radio):\n",
    "    ''' \n",
    "    Funcion que toma el radio como valor y calcula el area\n",
    "    '''\n",
    "    return math.pi*math.pow(radio,2)\n",
    "\n",
    "def calcular_perimetro_circulo(radio):\n",
    "    '''\n",
    "    Funcion que toma el radio como valor y calcula el perimetro\n",
    "    '''\n",
    "    return 2*math.pi*radio\n",
    "\n",
    "radio = float(input(\"Ingrese la medida del radio del circulo en cms.:\"))\n",
    "area=round(calcular_area_circulo(radio),2)\n",
    "perimetro=round(calcular_perimetro_circulo(radio),2)\n",
    "print(\"Radio del circulo:\\t\",radio,\"cms\")\n",
    "print(\"Area del circulo:\\t\",area,\"cm2\")\n",
    "print(\"Perimetro del circulo:\\t\",perimetro,\"cms\")\n",
    "#print(\"El circulo de radio\",radio,\"cms tiene un area de\",area,\"cm2 y el perimetro es\",perimetro,\"cms\")"
   ]
  },
  {
   "cell_type": "code",
   "execution_count": null,
   "id": "e617d377-44a4-47d4-bf6f-d4c4535e775a",
   "metadata": {},
   "outputs": [],
   "source": []
  }
 ],
 "metadata": {
  "kernelspec": {
   "display_name": "Python [conda env:base] *",
   "language": "python",
   "name": "conda-base-py"
  },
  "language_info": {
   "codemirror_mode": {
    "name": "ipython",
    "version": 3
   },
   "file_extension": ".py",
   "mimetype": "text/x-python",
   "name": "python",
   "nbconvert_exporter": "python",
   "pygments_lexer": "ipython3",
   "version": "3.12.7"
  }
 },
 "nbformat": 4,
 "nbformat_minor": 5
}
